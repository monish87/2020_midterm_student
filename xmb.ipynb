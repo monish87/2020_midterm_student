{
 "cells": [
  {
   "cell_type": "markdown",
   "metadata": {
    "colab_type": "text",
    "id": "vZfe_BrN2782"
   },
   "source": [
    "## Midterm\n",
    "\n",
    "![](https://github.com/rpi-techfundamentals/hm-01-starter/blob/master/notsaved.png?raw=1)\n",
    "\n",
    "**WARNING!!!  If you see this icon on the top of your COLAB sesssion, your work is not saved automatically.**\n",
    "\n",
    "**Do not manually upload any files.  Use the `wget` command to retreive files.**\n",
    "\n",
    "**Save your working file in Google drive so that all changes will be saved as you work. MAKE SURE that your final version is saved to GitHub.** \n",
    "\n",
    "Before you turn this in, make sure everything runs as expected. First, restart the kernel (in the menu, select Kernel → Restart) and then run all cells (in the menubar, select Cell → Run All). They should run completely without intervention...**i.e., DO NOT not manually upload any files.  Use the `wget` command to retreive files as necesssary.**\n",
    "\n",
    "\n",
    "### This is a 55 point assignment.\n",
    "\n",
    "**You may find it useful to go through the notebooks from the course materials when doing these exercises.**\n",
    "\n",
    "**If you receive assistance from anyone in the class it it will be considered an ethical violation and referred to associate dean.**"
   ]
  },
  {
   "cell_type": "code",
   "execution_count": null,
   "metadata": {
    "colab": {},
    "colab_type": "code",
    "id": "wAwXOu5EwrwL"
   },
   "outputs": [],
   "source": [
    "#get the data\n",
    "!wget https://www.dropbox.com/s/tg5sq8202u9zcoq/2020_v2.csv\n"
   ]
  },
  {
   "cell_type": "code",
   "execution_count": null,
   "metadata": {
    "colab": {},
    "colab_type": "code",
    "id": "DlqW9xLjyRhV"
   },
   "outputs": [],
   "source": [
    "import pandas as pd\n",
    "df  = pd.read_csv('2020_v2.csv')\n",
    "df.head()"
   ]
  },
  {
   "cell_type": "markdown",
   "metadata": {
    "colab_type": "text",
    "id": "1rX8YKAq0vfJ"
   },
   "source": [
    "### (15 points) 1. Basics (3 points each)\n",
    "\n",
    "The dataset is a simple simulated dataset representing customers (`id`) and whether they make a purchase (`purchase`) over a period of time (`ymr`).\n",
    "\n",
    "1a. Set `rows` as an *integer* equal to the number of rows in the `df` dataframe. \n",
    "\n",
    "1b. Set `columns` as an *integer* equal to the number of columns in the `df` dataframe. \n",
    "\n",
    "1c. Set `udates` as a *list* with the unique dates of the `df` dataframe. \n",
    "\n",
    "1d. Set `total_nulls` as the total nulls in the `df` dataframe. \n",
    "\n",
    "1e. Set `mean_target` as the mean value for the `purchase` column in the `df` dataframe."
   ]
  },
  {
   "cell_type": "code",
   "execution_count": null,
   "metadata": {
    "colab": {},
    "colab_type": "code",
    "id": "RM2YgR6V1wC2"
   },
   "outputs": [],
   "source": [
    "\n",
    "#1a"
   ]
  },
  {
   "cell_type": "code",
   "execution_count": null,
   "metadata": {
    "colab": {},
    "colab_type": "code",
    "id": "ppjtcZAPMChn"
   },
   "outputs": [],
   "source": [
    "#1b"
   ]
  },
  {
   "cell_type": "code",
   "execution_count": null,
   "metadata": {
    "colab": {},
    "colab_type": "code",
    "id": "A1KOB7rCMDy6"
   },
   "outputs": [],
   "source": [
    "#1c"
   ]
  },
  {
   "cell_type": "code",
   "execution_count": null,
   "metadata": {
    "colab": {},
    "colab_type": "code",
    "id": "qAHvhDQMME4J"
   },
   "outputs": [],
   "source": [
    "#1d"
   ]
  },
  {
   "cell_type": "code",
   "execution_count": null,
   "metadata": {
    "colab": {},
    "colab_type": "code",
    "id": "zxb_jgQQMFxe"
   },
   "outputs": [],
   "source": [
    "#1e"
   ]
  },
  {
   "cell_type": "markdown",
   "metadata": {
    "colab_type": "text",
    "id": "plPZBhRq-DND"
   },
   "source": [
    "### (10 points) 2. Null/Naive Model\n",
    "Set the null model equavalent to everyone purchases in every time period by creating a column in the dataframe `df` called `pred_null`.\n",
    "\n",
    "Calculate the accuracy of the null model and assign it to `acc_null`.\n"
   ]
  },
  {
   "cell_type": "code",
   "execution_count": null,
   "metadata": {
    "colab": {},
    "colab_type": "code",
    "id": "GVxdxFNq8dFN"
   },
   "outputs": [],
   "source": [
    "#2\n"
   ]
  },
  {
   "cell_type": "markdown",
   "metadata": {
    "colab_type": "text",
    "id": "aSQrbxpmLQ_j"
   },
   "source": [
    "### (10 points) 3. Train Test Split\n",
    "Using the `random_state=99` do a 50 50 train test split of only variables `v1-v11` and the `purchase` for y.   Your split should create the following: \n",
    "\n",
    "`train_X`, `test_X`, `train_y`, `test_y`\n",
    "\n",
    "**The split should not be stratified. \n",
    "The columns `id` and `yrm` should not be included.** "
   ]
  },
  {
   "cell_type": "code",
   "execution_count": null,
   "metadata": {
    "colab": {},
    "colab_type": "code",
    "id": "jABNcKvqLQ_k"
   },
   "outputs": [],
   "source": [
    "#3"
   ]
  },
  {
   "cell_type": "code",
   "execution_count": null,
   "metadata": {},
   "outputs": [],
   "source": []
  },
  {
   "cell_type": "markdown",
   "metadata": {
    "colab_type": "text",
    "id": "zBeAGSgcAVGc"
   },
   "source": [
    "### (10 points) 4. Perform Classification Using SciKit Learn. \n",
    "\n",
    "Perform classification analysis. Please note that you are not using the training and test sets created above.  This should be for the entire dataset. \n",
    "\n",
    "Classification 1\n",
    "\n",
    "4a. Use logistic regression to predict the `purchase` variable from `v1`-`v11`. \n",
    "\n",
    "4b. Assess the prediction accuracy and set it equal to `acc_log1`.   \n"
   ]
  },
  {
   "cell_type": "code",
   "execution_count": null,
   "metadata": {
    "colab": {},
    "colab_type": "code",
    "id": "h7UmG8NtLQ_q"
   },
   "outputs": [],
   "source": [
    "#4a"
   ]
  },
  {
   "cell_type": "code",
   "execution_count": null,
   "metadata": {
    "colab": {},
    "colab_type": "code",
    "id": "kSOFBXcIMba0"
   },
   "outputs": [],
   "source": [
    "#4b"
   ]
  },
  {
   "cell_type": "markdown",
   "metadata": {
    "colab_type": "text",
    "id": "XXVgKrBnLQ_t"
   },
   "source": [
    "### (10 points) 5. Perform Classification Using SciKit Learn. \n",
    "\n",
    "Perform classification analysis. Please note that you are not using the training and test sets created above.  This should be for the entire dataset. \n",
    "\n",
    "Classification 2. \n",
    "\n",
    "5a. Transform the variable `myr` into n-1 dummy variables which have the prefix `myr`. \n",
    "\n",
    "5b. Use logistic regression to predict the `purchase` variable from just the dummy variables. \n",
    "\n",
    "5c. Assess the prediction accuracy and set it equal to `acc_log2`.   \n"
   ]
  },
  {
   "cell_type": "code",
   "execution_count": null,
   "metadata": {
    "colab": {},
    "colab_type": "code",
    "id": "x3BdJIB50LEt"
   },
   "outputs": [],
   "source": [
    "#5a"
   ]
  },
  {
   "cell_type": "code",
   "execution_count": null,
   "metadata": {
    "colab": {},
    "colab_type": "code",
    "id": "QW588WFJMk51"
   },
   "outputs": [],
   "source": [
    "#5b"
   ]
  },
  {
   "cell_type": "code",
   "execution_count": null,
   "metadata": {
    "colab": {},
    "colab_type": "code",
    "id": "sWcFzSgHMk-8"
   },
   "outputs": [],
   "source": [
    "#5c"
   ]
  },
  {
   "cell_type": "code",
   "execution_count": null,
   "metadata": {
    "colab": {},
    "colab_type": "code",
    "id": "qt120gz7ORgB"
   },
   "outputs": [],
   "source": []
  },
  {
   "cell_type": "markdown",
   "metadata": {
    "colab_type": "text",
    "id": "F0BY7kssOSIf"
   },
   "source": [
    "### Submit your Assignment\n",
    "Click here to clone a repo to submit your assignment. \n",
    "\n",
    "[https://classroom.github.com/a/DT0sBQbX](https://classroom.github.com/a/DT0sBQbX)"
   ]
  }
 ],
 "metadata": {
  "colab": {
   "collapsed_sections": [],
   "include_colab_link": true,
   "name": "midterm_student.ipynb",
   "provenance": []
  },
  "kernelspec": {
   "display_name": "Python [conda env:cadre]",
   "language": "python",
   "name": "conda-env-cadre-py"
  },
  "language_info": {
   "codemirror_mode": {
    "name": "ipython",
    "version": 3
   },
   "file_extension": ".py",
   "mimetype": "text/x-python",
   "name": "python",
   "nbconvert_exporter": "python",
   "pygments_lexer": "ipython3",
   "version": "3.6.8"
  }
 },
 "nbformat": 4,
 "nbformat_minor": 4
}
